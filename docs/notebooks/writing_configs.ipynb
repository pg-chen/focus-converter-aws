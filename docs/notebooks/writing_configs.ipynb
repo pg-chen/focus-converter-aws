{
 "cells": [
  {
   "cell_type": "markdown",
   "id": "7565fc669a8e1e69",
   "metadata": {
    "collapsed": false
   },
   "source": [
    "## Steps to create config and quickly debug conversion configs\n",
    "\n",
    "* Writing sample config as a variable which then can be written to a temporary path for processing afterward.\n",
    "* Create a sample dataframe with only the required columns that we need to carry out the conversion.\n",
    "* Once we are satisfied we can write it back to the conversion_configs folder."
   ]
  },
  {
   "cell_type": "code",
   "execution_count": 17,
   "id": "3ac18de137e046cb",
   "metadata": {
    "ExecuteTime": {
     "start_time": "2023-10-17T17:35:16.651091611Z"
    },
    "collapsed": false
   },
   "outputs": [],
   "source": [
    "import tempfile\n",
    "\n",
    "import polars as pl\n",
    "\n",
    "from focus_converter.configs.base_config import ConversionPlan\n",
    "from focus_converter.converter import FocusConverter"
   ]
  },
  {
   "cell_type": "code",
   "execution_count": 18,
   "id": "5694711b87a7e697",
   "metadata": {
    "ExecuteTime": {
     "end_time": "2023-10-17T17:35:18.000052797Z",
     "start_time": "2023-10-17T17:35:17.994274964Z"
    },
    "collapsed": false
   },
   "outputs": [],
   "source": [
    "sample_converter_config = \"\"\"\n",
    "plan_name: Generate ServiceCategory for aws data using a map.\n",
    "column: line_item_product_code\n",
    "conversion_type: lookup\n",
    "focus_column: ServiceCategory\n",
    "conversion_args:\n",
    "    reference_dataset_path: \"conversion_configs/aws/mapping_files/aws_category_mapping.csv\"\n",
    "    source_value: product_code\n",
    "    destination_value: ServiceCategory\n",
    "\"\"\""
   ]
  },
  {
   "cell_type": "code",
   "execution_count": 24,
   "id": "8477dbd5da4c4fd9",
   "metadata": {
    "ExecuteTime": {
     "end_time": "2023-10-17T17:40:33.463979431Z",
     "start_time": "2023-10-17T17:40:33.422873562Z"
    },
    "collapsed": false
   },
   "outputs": [],
   "source": [
    "# Proposed conversion file name. \n",
    "# Configs follow the patters of 'D{0-9}{0-9}{0-9}_S{0-9}{0-9}{0-9}.yaml\", where first set of integrers represent the dimension id and the next\n",
    "# number represents the order in which this should be executed. Some dimensions may have more than one step therefore it is important to have\n",
    "# a priority.\n",
    "\n",
    "proposed_file_name = \"D012_S001.yaml\""
   ]
  },
  {
   "cell_type": "code",
   "execution_count": 25,
   "id": "2f7af155ac29967f",
   "metadata": {
    "ExecuteTime": {
     "end_time": "2023-10-17T17:40:33.733626147Z",
     "start_time": "2023-10-17T17:40:33.730787857Z"
    },
    "collapsed": false
   },
   "outputs": [],
   "source": [
    "# sample dataframe with one row and the column that we want to test and write conversion on.\n",
    "\n",
    "test_data_frame = pl.DataFrame(\n",
    "    [\n",
    "        {\"a\": 1, \"line_item_product_code\": \"AWSCloudWAN\"}\n",
    "    ]\n",
    ").lazy()\n",
    "\n",
    "# Lazy creates a pointer in memory for it to be used as a conversion plan as apposed to eager computation. "
   ]
  },
  {
   "cell_type": "code",
   "execution_count": 28,
   "id": "ef97b357af1e8be0",
   "metadata": {
    "ExecuteTime": {
     "end_time": "2023-10-17T17:41:38.669000422Z",
     "start_time": "2023-10-17T17:41:38.624307590Z"
    },
    "collapsed": false
   },
   "outputs": [],
   "source": [
    "from os import path\n",
    "\n",
    "with tempfile.TemporaryDirectory() as temp_directory:\n",
    "    # Write conversion config to temporary path, this way we know it is always refreshed, and we don't have to restart the notebook.\n",
    "    conversion_file_path = path.join(temp_directory, proposed_file_name)\n",
    "    with open(conversion_file_path, \"wb\") as fd:\n",
    "        fd.write(sample_converter_config.encode())\n",
    "\n",
    "    # Now we load the config, ensuring it is valid and the conversion_args are validated.\n",
    "    conversion_plan = ConversionPlan.load_yaml(\n",
    "        conversion_file_path\n",
    "    )\n",
    "\n",
    "focus_converter = FocusConverter()\n",
    "focus_converter.plans = {\"aws\": [conversion_plan]}\n",
    "column_exprs = focus_converter.prepare_horizontal_conversion_plan(\n",
    "    provider=\"aws\"\n",
    ")\n",
    "converted_lf = focus_converter.apply_plan(lf=test_data_frame)"
   ]
  },
  {
   "cell_type": "code",
   "execution_count": 29,
   "id": "6ff284787980ee62",
   "metadata": {
    "ExecuteTime": {
     "end_time": "2023-10-17T17:41:39.610380236Z",
     "start_time": "2023-10-17T17:41:39.604492273Z"
    },
    "collapsed": false
   },
   "outputs": [
    {
     "data": {
      "text/html": [
       "<div><style>\n",
       ".dataframe > thead > tr > th,\n",
       ".dataframe > tbody > tr > td {\n",
       "  text-align: right;\n",
       "  white-space: pre-wrap;\n",
       "}\n",
       "</style>\n",
       "<small>shape: (1, 4)</small><table border=\"1\" class=\"dataframe\"><thead><tr><th>a</th><th>line_item_product_code</th><th>Provider</th><th>ServiceCategory</th></tr><tr><td>i64</td><td>str</td><td>str</td><td>str</td></tr></thead><tbody><tr><td>1</td><td>&quot;AWSCloudWAN&quot;</td><td>&quot;aws&quot;</td><td>&quot;Networking&quot;</td></tr></tbody></table></div>"
      ],
      "text/plain": [
       "shape: (1, 4)\n",
       "┌─────┬────────────────────────┬──────────┬─────────────────┐\n",
       "│ a   ┆ line_item_product_code ┆ Provider ┆ ServiceCategory │\n",
       "│ --- ┆ ---                    ┆ ---      ┆ ---             │\n",
       "│ i64 ┆ str                    ┆ str      ┆ str             │\n",
       "╞═════╪════════════════════════╪══════════╪═════════════════╡\n",
       "│ 1   ┆ AWSCloudWAN            ┆ aws      ┆ Networking      │\n",
       "└─────┴────────────────────────┴──────────┴─────────────────┘"
      ]
     },
     "execution_count": 29,
     "metadata": {},
     "output_type": "execute_result"
    }
   ],
   "source": [
    "converted_lf.collect()"
   ]
  },
  {
   "cell_type": "code",
   "execution_count": null,
   "id": "5cff48a033e3f964",
   "metadata": {
    "collapsed": false
   },
   "outputs": [],
   "source": []
  }
 ],
 "metadata": {
  "kernelspec": {
   "display_name": "Python 3",
   "language": "python",
   "name": "python3"
  },
  "language_info": {
   "codemirror_mode": {
    "name": "ipython",
    "version": 2
   },
   "file_extension": ".py",
   "mimetype": "text/x-python",
   "name": "python",
   "nbconvert_exporter": "python",
   "pygments_lexer": "ipython2",
   "version": "2.7.6"
  }
 },
 "nbformat": 4,
 "nbformat_minor": 5
}
